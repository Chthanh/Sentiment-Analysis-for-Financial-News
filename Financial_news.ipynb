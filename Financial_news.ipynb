{
  "nbformat": 4,
  "nbformat_minor": 0,
  "metadata": {
    "colab": {
      "provenance": [],
      "mount_file_id": "1PiczMjaep00W3F24P0sgQxu1sAK35qQh",
      "authorship_tag": "ABX9TyN3TKhAKNONiJMe9Oz+zYue",
      "include_colab_link": true
    },
    "kernelspec": {
      "name": "python3",
      "display_name": "Python 3"
    },
    "language_info": {
      "name": "python"
    }
  },
  "cells": [
    {
      "cell_type": "markdown",
      "metadata": {
        "id": "view-in-github",
        "colab_type": "text"
      },
      "source": [
        "<a href=\"https://colab.research.google.com/github/Chthanh/Chthanh/blob/main/Financial_news.ipynb\" target=\"_parent\"><img src=\"https://colab.research.google.com/assets/colab-badge.svg\" alt=\"Open In Colab\"/></a>"
      ]
    },
    {
      "cell_type": "code",
      "execution_count": null,
      "metadata": {
        "colab": {
          "base_uri": "https://localhost:8080/"
        },
        "id": "Ld4DpBS6m-9S",
        "outputId": "f9b86756-d902-4db6-ceb8-ee80f8e274bc"
      },
      "outputs": [
        {
          "output_type": "stream",
          "name": "stdout",
          "text": [
            "drive  sample_data\n"
          ]
        }
      ],
      "source": [
        "!ls"
      ]
    },
    {
      "cell_type": "code",
      "source": [
        "%cd /content/drive/MyDrive/Colab Notebooks/Sentiment Analysis"
      ],
      "metadata": {
        "colab": {
          "base_uri": "https://localhost:8080/"
        },
        "id": "IM1fAG-CnSBp",
        "outputId": "b5406d94-d4ab-4f4b-91fb-8c693847d0d1"
      },
      "execution_count": 1,
      "outputs": [
        {
          "output_type": "stream",
          "name": "stdout",
          "text": [
            "/content/drive/MyDrive/Colab Notebooks/Sentiment Analysis\n"
          ]
        }
      ]
    },
    {
      "cell_type": "code",
      "source": [
        "import torch\n",
        "import torch.nn as nn\n",
        "\n",
        "seed = 1\n",
        "torch.manual_seed(seed)\n",
        "\n",
        "import os\n",
        "import numpy as np\n",
        "import pandas as pd\n",
        "import matplotlib.pyplot as plt\n",
        "import re\n",
        "import nltk\n",
        "import unidecode\n",
        "\n",
        "nltk.download('stopwords')\n",
        "from nltk.corpus import stopwords\n",
        "from nltk.stem.porter import PorterStemmer\n",
        "\n",
        "from torch.utils.data import Dataset, DataLoader\n",
        "from sklearn.model_selection import train_test_split\n"
      ],
      "metadata": {
        "colab": {
          "base_uri": "https://localhost:8080/"
        },
        "id": "PiPddE9TnR_f",
        "outputId": "0e36a7ef-b656-4ce9-8623-1c3304e87c46"
      },
      "execution_count": 3,
      "outputs": [
        {
          "output_type": "stream",
          "name": "stderr",
          "text": [
            "[nltk_data] Downloading package stopwords to /root/nltk_data...\n",
            "[nltk_data]   Unzipping corpora/stopwords.zip.\n"
          ]
        }
      ]
    },
    {
      "cell_type": "code",
      "source": [
        "!pip install unidecode"
      ],
      "metadata": {
        "colab": {
          "base_uri": "https://localhost:8080/"
        },
        "id": "ehGkH286nR8u",
        "outputId": "a72bdd6b-3634-47c7-89ba-bf3e92718a1b"
      },
      "execution_count": 2,
      "outputs": [
        {
          "output_type": "stream",
          "name": "stdout",
          "text": [
            "Collecting unidecode\n",
            "  Downloading Unidecode-1.3.7-py3-none-any.whl (235 kB)\n",
            "\u001b[2K     \u001b[90m━━━━━━━━━━━━━━━━━━━━━━━━━━━━━━━━━━━━━━━━\u001b[0m \u001b[32m235.5/235.5 kB\u001b[0m \u001b[31m1.2 MB/s\u001b[0m eta \u001b[36m0:00:00\u001b[0m\n",
            "\u001b[?25hInstalling collected packages: unidecode\n",
            "Successfully installed unidecode-1.3.7\n"
          ]
        }
      ]
    },
    {
      "cell_type": "code",
      "source": [
        "!wget -O dataset.zip \"https://drive.google.com/uc?export=download&id=1o09HEkDBBEjsW3gN76vDYfCAKiCqpcpg\""
      ],
      "metadata": {
        "colab": {
          "base_uri": "https://localhost:8080/"
        },
        "id": "Hdjlj27MnR6W",
        "outputId": "1ffbd0c4-9603-4415-eb70-b3b45b725cce"
      },
      "execution_count": null,
      "outputs": [
        {
          "output_type": "stream",
          "name": "stdout",
          "text": [
            "--2023-11-28 06:49:27--  https://drive.google.com/uc?export=download&id=1o09HEkDBBEjsW3gN76vDYfCAKiCqpcpg\n",
            "Resolving drive.google.com (drive.google.com)... 142.251.172.101, 142.251.172.100, 142.251.172.102, ...\n",
            "Connecting to drive.google.com (drive.google.com)|142.251.172.101|:443... connected.\n",
            "HTTP request sent, awaiting response... 303 See Other\n",
            "Location: https://doc-00-8s-docs.googleusercontent.com/docs/securesc/ha0ro937gcuc7l7deffksulhg5h7mbp1/h0o9itqbu703doavbb1rs4hopeh0nm8g/1701154125000/16346474942041582373/*/1o09HEkDBBEjsW3gN76vDYfCAKiCqpcpg?e=download&uuid=5d50c4ae-3266-4962-9dd1-cd7115d439b0 [following]\n",
            "Warning: wildcards not supported in HTTP.\n",
            "--2023-11-28 06:49:27--  https://doc-00-8s-docs.googleusercontent.com/docs/securesc/ha0ro937gcuc7l7deffksulhg5h7mbp1/h0o9itqbu703doavbb1rs4hopeh0nm8g/1701154125000/16346474942041582373/*/1o09HEkDBBEjsW3gN76vDYfCAKiCqpcpg?e=download&uuid=5d50c4ae-3266-4962-9dd1-cd7115d439b0\n",
            "Resolving doc-00-8s-docs.googleusercontent.com (doc-00-8s-docs.googleusercontent.com)... 64.233.181.132, 2607:f8b0:4001:c09::84\n",
            "Connecting to doc-00-8s-docs.googleusercontent.com (doc-00-8s-docs.googleusercontent.com)|64.233.181.132|:443... connected.\n",
            "HTTP request sent, awaiting response... 200 OK\n",
            "Length: 924875 (903K) [application/zip]\n",
            "Saving to: ‘dataset.zip’\n",
            "\n",
            "dataset.zip         100%[===================>] 903.20K  --.-KB/s    in 0.07s   \n",
            "\n",
            "2023-11-28 06:49:28 (12.9 MB/s) - ‘dataset.zip’ saved [924875/924875]\n",
            "\n"
          ]
        }
      ]
    },
    {
      "cell_type": "code",
      "source": [
        "!gdown 1o09HEkDBBEjsW3gN76vDYfCAKiCqpcpg"
      ],
      "metadata": {
        "colab": {
          "base_uri": "https://localhost:8080/"
        },
        "id": "IuUDD5_RnR3t",
        "outputId": "ab2dcbd2-c1bd-4e86-ac6a-dbf660aa9d3f"
      },
      "execution_count": null,
      "outputs": [
        {
          "output_type": "stream",
          "name": "stdout",
          "text": [
            "Downloading...\n",
            "From: https://drive.google.com/uc?id=1o09HEkDBBEjsW3gN76vDYfCAKiCqpcpg\n",
            "To: /content/drive/MyDrive/Colab Notebooks/Sentiment Analysis/financial_sentiment.zip\n",
            "\r  0% 0.00/925k [00:00<?, ?B/s]\r100% 925k/925k [00:00<00:00, 113MB/s]\n"
          ]
        }
      ]
    },
    {
      "cell_type": "code",
      "source": [
        "!unzip financial_sentiment.zip"
      ],
      "metadata": {
        "colab": {
          "base_uri": "https://localhost:8080/"
        },
        "id": "6eOgKMognR1S",
        "outputId": "944ada5f-c5ae-4fd0-8da7-6258775a0929"
      },
      "execution_count": null,
      "outputs": [
        {
          "output_type": "stream",
          "name": "stdout",
          "text": [
            "Archive:  financial_sentiment.zip\n",
            "  inflating: FinancialPhraseBank/License.txt  \n",
            "  inflating: FinancialPhraseBank/README.txt  \n",
            "  inflating: FinancialPhraseBank/Sentences_50Agree.txt  \n",
            "  inflating: FinancialPhraseBank/Sentences_66Agree.txt  \n",
            "  inflating: FinancialPhraseBank/Sentences_75Agree.txt  \n",
            "  inflating: FinancialPhraseBank/Sentences_AllAgree.txt  \n",
            "  inflating: all-data.csv            \n"
          ]
        }
      ]
    },
    {
      "cell_type": "code",
      "source": [
        "dataset_path = 'all-data.csv'\n",
        "headers = ['sentiment', 'content']\n",
        "df = pd.read_csv(\n",
        "    dataset_path,\n",
        "    names = headers,\n",
        "    encoding = 'ISO-8859-1'\n",
        ")"
      ],
      "metadata": {
        "id": "T8zLWNKnnRyr"
      },
      "execution_count": 4,
      "outputs": []
    },
    {
      "cell_type": "code",
      "source": [
        "df.head(5)"
      ],
      "metadata": {
        "colab": {
          "base_uri": "https://localhost:8080/",
          "height": 206
        },
        "id": "9pcnzRNQnRvs",
        "outputId": "3847b994-c4fe-484c-dbdd-50520568b45c"
      },
      "execution_count": 5,
      "outputs": [
        {
          "output_type": "execute_result",
          "data": {
            "text/plain": [
              "  sentiment                                            content\n",
              "0   neutral  According to Gran , the company has no plans t...\n",
              "1   neutral  Technopolis plans to develop in stages an area...\n",
              "2  negative  The international electronic industry company ...\n",
              "3  positive  With the new production plant the company woul...\n",
              "4  positive  According to the company 's updated strategy f..."
            ],
            "text/html": [
              "\n",
              "  <div id=\"df-a99a4e50-f4ff-416f-95d5-32c4787b7d86\" class=\"colab-df-container\">\n",
              "    <div>\n",
              "<style scoped>\n",
              "    .dataframe tbody tr th:only-of-type {\n",
              "        vertical-align: middle;\n",
              "    }\n",
              "\n",
              "    .dataframe tbody tr th {\n",
              "        vertical-align: top;\n",
              "    }\n",
              "\n",
              "    .dataframe thead th {\n",
              "        text-align: right;\n",
              "    }\n",
              "</style>\n",
              "<table border=\"1\" class=\"dataframe\">\n",
              "  <thead>\n",
              "    <tr style=\"text-align: right;\">\n",
              "      <th></th>\n",
              "      <th>sentiment</th>\n",
              "      <th>content</th>\n",
              "    </tr>\n",
              "  </thead>\n",
              "  <tbody>\n",
              "    <tr>\n",
              "      <th>0</th>\n",
              "      <td>neutral</td>\n",
              "      <td>According to Gran , the company has no plans t...</td>\n",
              "    </tr>\n",
              "    <tr>\n",
              "      <th>1</th>\n",
              "      <td>neutral</td>\n",
              "      <td>Technopolis plans to develop in stages an area...</td>\n",
              "    </tr>\n",
              "    <tr>\n",
              "      <th>2</th>\n",
              "      <td>negative</td>\n",
              "      <td>The international electronic industry company ...</td>\n",
              "    </tr>\n",
              "    <tr>\n",
              "      <th>3</th>\n",
              "      <td>positive</td>\n",
              "      <td>With the new production plant the company woul...</td>\n",
              "    </tr>\n",
              "    <tr>\n",
              "      <th>4</th>\n",
              "      <td>positive</td>\n",
              "      <td>According to the company 's updated strategy f...</td>\n",
              "    </tr>\n",
              "  </tbody>\n",
              "</table>\n",
              "</div>\n",
              "    <div class=\"colab-df-buttons\">\n",
              "\n",
              "  <div class=\"colab-df-container\">\n",
              "    <button class=\"colab-df-convert\" onclick=\"convertToInteractive('df-a99a4e50-f4ff-416f-95d5-32c4787b7d86')\"\n",
              "            title=\"Convert this dataframe to an interactive table.\"\n",
              "            style=\"display:none;\">\n",
              "\n",
              "  <svg xmlns=\"http://www.w3.org/2000/svg\" height=\"24px\" viewBox=\"0 -960 960 960\">\n",
              "    <path d=\"M120-120v-720h720v720H120Zm60-500h600v-160H180v160Zm220 220h160v-160H400v160Zm0 220h160v-160H400v160ZM180-400h160v-160H180v160Zm440 0h160v-160H620v160ZM180-180h160v-160H180v160Zm440 0h160v-160H620v160Z\"/>\n",
              "  </svg>\n",
              "    </button>\n",
              "\n",
              "  <style>\n",
              "    .colab-df-container {\n",
              "      display:flex;\n",
              "      gap: 12px;\n",
              "    }\n",
              "\n",
              "    .colab-df-convert {\n",
              "      background-color: #E8F0FE;\n",
              "      border: none;\n",
              "      border-radius: 50%;\n",
              "      cursor: pointer;\n",
              "      display: none;\n",
              "      fill: #1967D2;\n",
              "      height: 32px;\n",
              "      padding: 0 0 0 0;\n",
              "      width: 32px;\n",
              "    }\n",
              "\n",
              "    .colab-df-convert:hover {\n",
              "      background-color: #E2EBFA;\n",
              "      box-shadow: 0px 1px 2px rgba(60, 64, 67, 0.3), 0px 1px 3px 1px rgba(60, 64, 67, 0.15);\n",
              "      fill: #174EA6;\n",
              "    }\n",
              "\n",
              "    .colab-df-buttons div {\n",
              "      margin-bottom: 4px;\n",
              "    }\n",
              "\n",
              "    [theme=dark] .colab-df-convert {\n",
              "      background-color: #3B4455;\n",
              "      fill: #D2E3FC;\n",
              "    }\n",
              "\n",
              "    [theme=dark] .colab-df-convert:hover {\n",
              "      background-color: #434B5C;\n",
              "      box-shadow: 0px 1px 3px 1px rgba(0, 0, 0, 0.15);\n",
              "      filter: drop-shadow(0px 1px 2px rgba(0, 0, 0, 0.3));\n",
              "      fill: #FFFFFF;\n",
              "    }\n",
              "  </style>\n",
              "\n",
              "    <script>\n",
              "      const buttonEl =\n",
              "        document.querySelector('#df-a99a4e50-f4ff-416f-95d5-32c4787b7d86 button.colab-df-convert');\n",
              "      buttonEl.style.display =\n",
              "        google.colab.kernel.accessAllowed ? 'block' : 'none';\n",
              "\n",
              "      async function convertToInteractive(key) {\n",
              "        const element = document.querySelector('#df-a99a4e50-f4ff-416f-95d5-32c4787b7d86');\n",
              "        const dataTable =\n",
              "          await google.colab.kernel.invokeFunction('convertToInteractive',\n",
              "                                                    [key], {});\n",
              "        if (!dataTable) return;\n",
              "\n",
              "        const docLinkHtml = 'Like what you see? Visit the ' +\n",
              "          '<a target=\"_blank\" href=https://colab.research.google.com/notebooks/data_table.ipynb>data table notebook</a>'\n",
              "          + ' to learn more about interactive tables.';\n",
              "        element.innerHTML = '';\n",
              "        dataTable['output_type'] = 'display_data';\n",
              "        await google.colab.output.renderOutput(dataTable, element);\n",
              "        const docLink = document.createElement('div');\n",
              "        docLink.innerHTML = docLinkHtml;\n",
              "        element.appendChild(docLink);\n",
              "      }\n",
              "    </script>\n",
              "  </div>\n",
              "\n",
              "\n",
              "<div id=\"df-9e4a4c17-3cd7-4ad2-829a-e44467054e12\">\n",
              "  <button class=\"colab-df-quickchart\" onclick=\"quickchart('df-9e4a4c17-3cd7-4ad2-829a-e44467054e12')\"\n",
              "            title=\"Suggest charts\"\n",
              "            style=\"display:none;\">\n",
              "\n",
              "<svg xmlns=\"http://www.w3.org/2000/svg\" height=\"24px\"viewBox=\"0 0 24 24\"\n",
              "     width=\"24px\">\n",
              "    <g>\n",
              "        <path d=\"M19 3H5c-1.1 0-2 .9-2 2v14c0 1.1.9 2 2 2h14c1.1 0 2-.9 2-2V5c0-1.1-.9-2-2-2zM9 17H7v-7h2v7zm4 0h-2V7h2v10zm4 0h-2v-4h2v4z\"/>\n",
              "    </g>\n",
              "</svg>\n",
              "  </button>\n",
              "\n",
              "<style>\n",
              "  .colab-df-quickchart {\n",
              "      --bg-color: #E8F0FE;\n",
              "      --fill-color: #1967D2;\n",
              "      --hover-bg-color: #E2EBFA;\n",
              "      --hover-fill-color: #174EA6;\n",
              "      --disabled-fill-color: #AAA;\n",
              "      --disabled-bg-color: #DDD;\n",
              "  }\n",
              "\n",
              "  [theme=dark] .colab-df-quickchart {\n",
              "      --bg-color: #3B4455;\n",
              "      --fill-color: #D2E3FC;\n",
              "      --hover-bg-color: #434B5C;\n",
              "      --hover-fill-color: #FFFFFF;\n",
              "      --disabled-bg-color: #3B4455;\n",
              "      --disabled-fill-color: #666;\n",
              "  }\n",
              "\n",
              "  .colab-df-quickchart {\n",
              "    background-color: var(--bg-color);\n",
              "    border: none;\n",
              "    border-radius: 50%;\n",
              "    cursor: pointer;\n",
              "    display: none;\n",
              "    fill: var(--fill-color);\n",
              "    height: 32px;\n",
              "    padding: 0;\n",
              "    width: 32px;\n",
              "  }\n",
              "\n",
              "  .colab-df-quickchart:hover {\n",
              "    background-color: var(--hover-bg-color);\n",
              "    box-shadow: 0 1px 2px rgba(60, 64, 67, 0.3), 0 1px 3px 1px rgba(60, 64, 67, 0.15);\n",
              "    fill: var(--button-hover-fill-color);\n",
              "  }\n",
              "\n",
              "  .colab-df-quickchart-complete:disabled,\n",
              "  .colab-df-quickchart-complete:disabled:hover {\n",
              "    background-color: var(--disabled-bg-color);\n",
              "    fill: var(--disabled-fill-color);\n",
              "    box-shadow: none;\n",
              "  }\n",
              "\n",
              "  .colab-df-spinner {\n",
              "    border: 2px solid var(--fill-color);\n",
              "    border-color: transparent;\n",
              "    border-bottom-color: var(--fill-color);\n",
              "    animation:\n",
              "      spin 1s steps(1) infinite;\n",
              "  }\n",
              "\n",
              "  @keyframes spin {\n",
              "    0% {\n",
              "      border-color: transparent;\n",
              "      border-bottom-color: var(--fill-color);\n",
              "      border-left-color: var(--fill-color);\n",
              "    }\n",
              "    20% {\n",
              "      border-color: transparent;\n",
              "      border-left-color: var(--fill-color);\n",
              "      border-top-color: var(--fill-color);\n",
              "    }\n",
              "    30% {\n",
              "      border-color: transparent;\n",
              "      border-left-color: var(--fill-color);\n",
              "      border-top-color: var(--fill-color);\n",
              "      border-right-color: var(--fill-color);\n",
              "    }\n",
              "    40% {\n",
              "      border-color: transparent;\n",
              "      border-right-color: var(--fill-color);\n",
              "      border-top-color: var(--fill-color);\n",
              "    }\n",
              "    60% {\n",
              "      border-color: transparent;\n",
              "      border-right-color: var(--fill-color);\n",
              "    }\n",
              "    80% {\n",
              "      border-color: transparent;\n",
              "      border-right-color: var(--fill-color);\n",
              "      border-bottom-color: var(--fill-color);\n",
              "    }\n",
              "    90% {\n",
              "      border-color: transparent;\n",
              "      border-bottom-color: var(--fill-color);\n",
              "    }\n",
              "  }\n",
              "</style>\n",
              "\n",
              "  <script>\n",
              "    async function quickchart(key) {\n",
              "      const quickchartButtonEl =\n",
              "        document.querySelector('#' + key + ' button');\n",
              "      quickchartButtonEl.disabled = true;  // To prevent multiple clicks.\n",
              "      quickchartButtonEl.classList.add('colab-df-spinner');\n",
              "      try {\n",
              "        const charts = await google.colab.kernel.invokeFunction(\n",
              "            'suggestCharts', [key], {});\n",
              "      } catch (error) {\n",
              "        console.error('Error during call to suggestCharts:', error);\n",
              "      }\n",
              "      quickchartButtonEl.classList.remove('colab-df-spinner');\n",
              "      quickchartButtonEl.classList.add('colab-df-quickchart-complete');\n",
              "    }\n",
              "    (() => {\n",
              "      let quickchartButtonEl =\n",
              "        document.querySelector('#df-9e4a4c17-3cd7-4ad2-829a-e44467054e12 button');\n",
              "      quickchartButtonEl.style.display =\n",
              "        google.colab.kernel.accessAllowed ? 'block' : 'none';\n",
              "    })();\n",
              "  </script>\n",
              "</div>\n",
              "    </div>\n",
              "  </div>\n"
            ]
          },
          "metadata": {},
          "execution_count": 5
        }
      ]
    },
    {
      "cell_type": "code",
      "source": [
        "classes = {\n",
        "    class_name: idx for idx, class_name in enumerate(df['sentiment'].unique().tolist())\n",
        "}\n",
        "df['sentiment'] = df['sentiment'].apply(lambda x: classes[x])"
      ],
      "metadata": {
        "id": "RvFYKpz3nRsi"
      },
      "execution_count": 6,
      "outputs": []
    },
    {
      "cell_type": "code",
      "source": [
        "classes"
      ],
      "metadata": {
        "colab": {
          "base_uri": "https://localhost:8080/"
        },
        "id": "g5r41kGRnRp1",
        "outputId": "e7d7c8b4-a1d0-43ad-a28c-7769cfd23184"
      },
      "execution_count": 7,
      "outputs": [
        {
          "output_type": "execute_result",
          "data": {
            "text/plain": [
              "{'neutral': 0, 'negative': 1, 'positive': 2}"
            ]
          },
          "metadata": {},
          "execution_count": 7
        }
      ]
    },
    {
      "cell_type": "code",
      "source": [
        "#data preprocessing\n",
        "english_stop_words = stopwords.words('english')\n",
        "stemmer = PorterStemmer()\n",
        "\n",
        "def text_normalize(text):\n",
        "  text = text.lower()\n",
        "  text = unidecode.unidecode(text)\n",
        "  text = text.strip()\n",
        "  text = re.sub(r'[^\\w\\s]', '', text)\n",
        "  text = ' '.join([word for word in text.split(' ') if word not in english_stop_words])\n",
        "  text = ' '.join([stemmer.stem(word) for word in text.split(' ')])\n",
        "\n",
        "  return text"
      ],
      "metadata": {
        "id": "UR0by9q6tO9u"
      },
      "execution_count": 8,
      "outputs": []
    },
    {
      "cell_type": "code",
      "source": [
        "df['content'] = df['content'].apply(lambda x: text_normalize(x))"
      ],
      "metadata": {
        "id": "5YIJdU0Lw7ve"
      },
      "execution_count": 9,
      "outputs": []
    },
    {
      "cell_type": "code",
      "source": [
        "#building vocabulary\n",
        "vocab = []\n",
        "for sentence in df['content'].tolist():\n",
        "  tokens = sentence.split()\n",
        "  for token in tokens:\n",
        "    if token not in vocab:\n",
        "      vocab.append(token)\n",
        "\n",
        "vocab.append('UNK')\n",
        "vocab.append('PAD')\n",
        "word_to_idx = {word: idx for idx, word in enumerate(vocab)}\n",
        "vocab_size = len(vocab)"
      ],
      "metadata": {
        "id": "fFhyBAhdtSEo"
      },
      "execution_count": 10,
      "outputs": []
    },
    {
      "cell_type": "code",
      "source": [
        "def transform(text, word_to_idx, max_seq_len):\n",
        "  tokens = []\n",
        "  for w in text.split():\n",
        "    try:\n",
        "      w_ids = word_to_idx[w]\n",
        "    except:\n",
        "      w_ids = word_to_idx['UNK']\n",
        "    tokens.append(w_ids)\n",
        "\n",
        "  if len(tokens) < max_seq_len:\n",
        "    tokens += [word_to_idx['PAD']] * (max_seq_len - len(tokens))\n",
        "  elif len(tokens) > max_seq_len:\n",
        "    tokens = tokens[:max_seq_len]\n",
        "\n",
        "  return tokens"
      ],
      "metadata": {
        "id": "NRaKnM5XtSCI"
      },
      "execution_count": 11,
      "outputs": []
    },
    {
      "cell_type": "code",
      "source": [
        "val_size = 0.2\n",
        "test_size = 0.125\n",
        "is_shuffle = True\n",
        "texts = df['content'].tolist()\n",
        "labels = df['sentiment'].tolist()\n",
        "\n",
        "X_train, X_val, y_train, y_val = train_test_split(\n",
        "    texts, labels,\n",
        "    test_size = val_size,\n",
        "    random_state = seed,\n",
        "    shuffle = is_shuffle\n",
        ")\n",
        "\n",
        "X_train, X_test, y_train, y_test = train_test_split(\n",
        "    texts, labels,\n",
        "    test_size = val_size,\n",
        "    random_state = seed,\n",
        "    shuffle = is_shuffle\n",
        ")"
      ],
      "metadata": {
        "id": "IavC1P8jtR_w"
      },
      "execution_count": 12,
      "outputs": []
    },
    {
      "cell_type": "code",
      "source": [
        "class FinancialNews(Dataset):\n",
        "  def __init__(self, X, y, word_to_idx, max_seq_len, transform = None):\n",
        "    self.texts = X\n",
        "    self.labels = y\n",
        "    self.word_to_idx = word_to_idx\n",
        "    self.max_seq_len = max_seq_len\n",
        "    self.transform = transform\n",
        "\n",
        "  def __len__(self):\n",
        "    return len(self.texts)\n",
        "\n",
        "  def __getitem__(self, idx):\n",
        "    text = self.texts[idx]\n",
        "    label = self.labels[idx]\n",
        "\n",
        "    if self.transform:\n",
        "      text = self.transform(text, self.word_to_idx, self.max_seq_len)\n",
        "\n",
        "    text = torch.tensor(text)\n",
        "\n",
        "    return text, label"
      ],
      "metadata": {
        "id": "lp8FbPcVtO7d"
      },
      "execution_count": 13,
      "outputs": []
    },
    {
      "cell_type": "code",
      "source": [
        "max_seq_len = 32\n",
        "\n",
        "train_dataset = FinancialNews(X_train, y_train, word_to_idx = word_to_idx, max_seq_len = max_seq_len, transform = transform)\n",
        "val_dataset = FinancialNews(X_val, y_val, word_to_idx = word_to_idx, max_seq_len = max_seq_len, transform = transform)\n",
        "test_dataset = FinancialNews(X_test, y_test, word_to_idx = word_to_idx, max_seq_len = max_seq_len, transform = transform)\n",
        "\n",
        "train_batch_size = 128\n",
        "test_batch_size = 8\n",
        "\n",
        "train_loader = DataLoader(train_dataset, batch_size = train_batch_size, shuffle = True)\n",
        "val_loader = DataLoader(val_dataset, batch_size = test_batch_size, shuffle = True)\n",
        "test_loader = DataLoader(test_dataset, batch_size = test_batch_size, shuffle = True)"
      ],
      "metadata": {
        "id": "g91nsbFetO4_"
      },
      "execution_count": 14,
      "outputs": []
    },
    {
      "cell_type": "code",
      "source": [
        "class SentimentClassifier(nn.Module):\n",
        "  def __init__(self, vocab_size, embedding_dim, hidden_size, n_layers, n_classes, dropout_prob):\n",
        "    super(SentimentClassifier, self).__init__()\n",
        "    self.embedding = nn.Embedding(vocab_size, embedding_dim)\n",
        "    self.rnn = nn.RNN(embedding_dim, hidden_size, n_layers, batch_first = True)\n",
        "    self.norm = nn.LayerNorm(hidden_size)\n",
        "    self.dropout = nn.Dropout(dropout_prob)\n",
        "    self.fc1 = nn.Linear(hidden_size, 16)\n",
        "    self.relu = nn. ReLU()\n",
        "    self.fc2 = nn.Linear(16, n_classes)\n",
        "\n",
        "  def forward(self, x):\n",
        "    x = self.embedding(x)\n",
        "    x, hn = self.rnn(x)\n",
        "    x = x[:, -1, :]\n",
        "    x = self.norm(x)\n",
        "    x = self.dropout(x)\n",
        "    x = self.fc1(x)\n",
        "    x = self.relu(x)\n",
        "    x = self.fc2(x)\n",
        "\n",
        "    return x"
      ],
      "metadata": {
        "id": "9nIbczRXtO2v"
      },
      "execution_count": 15,
      "outputs": []
    },
    {
      "cell_type": "code",
      "source": [
        "n_classes = len(list(classes.keys()))\n",
        "embedding_dim = 64\n",
        "hidden_size = 64\n",
        "n_layers = 2\n",
        "dropout_prob = 0.2\n",
        "device = 'cuda' if torch.cuda.is_available() else 'cpu'\n",
        "\n",
        "model = SentimentClassifier(\n",
        "    vocab_size = vocab_size,\n",
        "    embedding_dim = embedding_dim,\n",
        "    hidden_size = hidden_size,\n",
        "    n_layers = n_layers,\n",
        "    n_classes = n_classes,\n",
        "    dropout_prob = dropout_prob\n",
        ").to(device)"
      ],
      "metadata": {
        "id": "EgSCqv-ktO0b"
      },
      "execution_count": 16,
      "outputs": []
    },
    {
      "cell_type": "code",
      "source": [
        "lr = 1e-4\n",
        "epochs = 50\n",
        "\n",
        "criterion = nn.CrossEntropyLoss()\n",
        "optimizer = torch.optim.Adam(\n",
        "    model.parameters(),\n",
        "    lr = lr\n",
        ")"
      ],
      "metadata": {
        "id": "L5e4X-h2tOxw"
      },
      "execution_count": 17,
      "outputs": []
    },
    {
      "cell_type": "code",
      "source": [
        "def evaluate(model, dataloader, criterion, device):\n",
        "  model.eval()\n",
        "  correct = 0\n",
        "  total = 0\n",
        "  losses = []\n",
        "  with torch.no_grad():\n",
        "    for inputs, labels in dataloader:\n",
        "      inputs, labels = inputs.to(device), labels.to(device)\n",
        "      outputs = model(inputs)\n",
        "      loss = criterion(outputs, labels)\n",
        "      losses.append(loss.item())\n",
        "      _, predicted = torch.max(outputs.data, 1)\n",
        "      total += labels.size(0)\n",
        "      correct += (predicted == labels).sum().item()\n",
        "\n",
        "  loss = sum(losses) / len(losses)\n",
        "  acc = correct / total\n",
        "\n",
        "  return loss, acc"
      ],
      "metadata": {
        "id": "9rglEBFCB0Bd"
      },
      "execution_count": 18,
      "outputs": []
    },
    {
      "cell_type": "code",
      "source": [
        "def fit(model, train_loader, val_loader, criterion, optimizer, device, epochs):\n",
        "  train_losses = []\n",
        "  val_losses = []\n",
        "\n",
        "  for epoch in range(epochs):\n",
        "    batch_train_losses = []\n",
        "    model.train()\n",
        "    for idx, (inputs, labels) in enumerate(train_loader):\n",
        "      inputs, labels = inputs.to(device), labels.to(device)\n",
        "\n",
        "      optimizer.zero_grad()\n",
        "      outputs = model(inputs)\n",
        "      loss = criterion(outputs, labels)\n",
        "      loss.backward()\n",
        "      optimizer.step()\n",
        "\n",
        "      batch_train_losses.append(loss.item())\n",
        "\n",
        "    train_loss = sum(batch_train_losses) / len(batch_train_losses)\n",
        "    train_losses.append(train_loss)\n",
        "\n",
        "    val_loss, val_acc = evaluate(model, val_loader, criterion, device)\n",
        "    val_losses.append(val_loss)\n",
        "\n",
        "    print(f'EPOCH {epoch + 1}:\\tTrain loss: {train_loss:.4f}\\tVal_loss: {val_loss:.4f}')\n",
        "\n",
        "  return train_losses, val_losses"
      ],
      "metadata": {
        "id": "HkCG8PratOvH"
      },
      "execution_count": 19,
      "outputs": []
    },
    {
      "cell_type": "code",
      "source": [
        "train_losses, val_losses = fit(model, train_loader, val_loader, criterion, optimizer, device, epochs)"
      ],
      "metadata": {
        "colab": {
          "base_uri": "https://localhost:8080/"
        },
        "id": "nnFO-5f_tOsi",
        "outputId": "8fb0fb4c-2975-4edf-fb21-aea3de20440a"
      },
      "execution_count": 20,
      "outputs": [
        {
          "output_type": "stream",
          "name": "stdout",
          "text": [
            "EPOCH 1:\tTrain loss: 0.9968\tVal_loss: 0.9499\n",
            "EPOCH 2:\tTrain loss: 0.9385\tVal_loss: 0.9353\n",
            "EPOCH 3:\tTrain loss: 0.9304\tVal_loss: 0.9335\n",
            "EPOCH 4:\tTrain loss: 0.9299\tVal_loss: 0.9286\n",
            "EPOCH 5:\tTrain loss: 0.9290\tVal_loss: 0.9335\n",
            "EPOCH 6:\tTrain loss: 0.9288\tVal_loss: 0.9350\n",
            "EPOCH 7:\tTrain loss: 0.9247\tVal_loss: 0.9289\n",
            "EPOCH 8:\tTrain loss: 0.9301\tVal_loss: 0.9286\n",
            "EPOCH 9:\tTrain loss: 0.9304\tVal_loss: 0.9307\n",
            "EPOCH 10:\tTrain loss: 0.9285\tVal_loss: 0.9304\n",
            "EPOCH 11:\tTrain loss: 0.9293\tVal_loss: 0.9281\n",
            "EPOCH 12:\tTrain loss: 0.9264\tVal_loss: 0.9280\n",
            "EPOCH 13:\tTrain loss: 0.9283\tVal_loss: 0.9309\n",
            "EPOCH 14:\tTrain loss: 0.9243\tVal_loss: 0.9281\n",
            "EPOCH 15:\tTrain loss: 0.9270\tVal_loss: 0.9279\n",
            "EPOCH 16:\tTrain loss: 0.9287\tVal_loss: 0.9281\n",
            "EPOCH 17:\tTrain loss: 0.9242\tVal_loss: 0.9279\n",
            "EPOCH 18:\tTrain loss: 0.9259\tVal_loss: 0.9278\n",
            "EPOCH 19:\tTrain loss: 0.9263\tVal_loss: 0.9348\n",
            "EPOCH 20:\tTrain loss: 0.9267\tVal_loss: 0.9301\n",
            "EPOCH 21:\tTrain loss: 0.9250\tVal_loss: 0.9278\n",
            "EPOCH 22:\tTrain loss: 0.9226\tVal_loss: 0.9325\n",
            "EPOCH 23:\tTrain loss: 0.9318\tVal_loss: 0.9276\n",
            "EPOCH 24:\tTrain loss: 0.9255\tVal_loss: 0.9275\n",
            "EPOCH 25:\tTrain loss: 0.9233\tVal_loss: 0.9298\n",
            "EPOCH 26:\tTrain loss: 0.9261\tVal_loss: 0.9275\n",
            "EPOCH 27:\tTrain loss: 0.9204\tVal_loss: 0.9320\n",
            "EPOCH 28:\tTrain loss: 0.9303\tVal_loss: 0.9318\n",
            "EPOCH 29:\tTrain loss: 0.9229\tVal_loss: 0.9291\n",
            "EPOCH 30:\tTrain loss: 0.9250\tVal_loss: 0.9288\n",
            "EPOCH 31:\tTrain loss: 0.9255\tVal_loss: 0.9256\n",
            "EPOCH 32:\tTrain loss: 0.9189\tVal_loss: 0.9272\n",
            "EPOCH 33:\tTrain loss: 0.9183\tVal_loss: 0.9263\n",
            "EPOCH 34:\tTrain loss: 0.9185\tVal_loss: 0.9265\n",
            "EPOCH 35:\tTrain loss: 0.9071\tVal_loss: 0.9318\n",
            "EPOCH 36:\tTrain loss: 0.9227\tVal_loss: 0.9218\n",
            "EPOCH 37:\tTrain loss: 0.9171\tVal_loss: 0.9260\n",
            "EPOCH 38:\tTrain loss: 0.9029\tVal_loss: 0.9210\n",
            "EPOCH 39:\tTrain loss: 0.8732\tVal_loss: 0.9072\n",
            "EPOCH 40:\tTrain loss: 0.8551\tVal_loss: 0.8972\n",
            "EPOCH 41:\tTrain loss: 0.8380\tVal_loss: 0.8797\n",
            "EPOCH 42:\tTrain loss: 0.8299\tVal_loss: 0.8940\n",
            "EPOCH 43:\tTrain loss: 0.8227\tVal_loss: 0.8723\n",
            "EPOCH 44:\tTrain loss: 0.8158\tVal_loss: 0.8847\n",
            "EPOCH 45:\tTrain loss: 0.8095\tVal_loss: 0.8725\n",
            "EPOCH 46:\tTrain loss: 0.8138\tVal_loss: 0.8738\n",
            "EPOCH 47:\tTrain loss: 0.8057\tVal_loss: 0.8678\n",
            "EPOCH 48:\tTrain loss: 0.7986\tVal_loss: 0.8814\n",
            "EPOCH 49:\tTrain loss: 0.7948\tVal_loss: 0.8880\n",
            "EPOCH 50:\tTrain loss: 0.7902\tVal_loss: 0.8903\n"
          ]
        }
      ]
    },
    {
      "cell_type": "code",
      "source": [
        "val_loss, val_acc = evaluate(model, val_loader, criterion, device)\n",
        "test_loss, test_acc = evaluate(model, test_loader, criterion, device)"
      ],
      "metadata": {
        "id": "a450Eek2uda9"
      },
      "execution_count": 21,
      "outputs": []
    },
    {
      "cell_type": "code",
      "source": [
        "print('Evaluate on val/test dataset')\n",
        "print('Val accuracy: ', val_acc)\n",
        "print('Test accuracy: ', test_acc)"
      ],
      "metadata": {
        "colab": {
          "base_uri": "https://localhost:8080/"
        },
        "id": "JNyEZj2EtOp1",
        "outputId": "4e2bbbea-be3e-44ba-a120-9b2fa40c9f5b"
      },
      "execution_count": 22,
      "outputs": [
        {
          "output_type": "stream",
          "name": "stdout",
          "text": [
            "Evaluate on val/test dataset\n",
            "Val accuracy:  0.6123711340206186\n",
            "Test accuracy:  0.6123711340206186\n"
          ]
        }
      ]
    },
    {
      "cell_type": "code",
      "source": [
        "plt.figure(figsize = (20,10))\n",
        "plt.subplot(121)\n",
        "plt.title('Trainning Loss')\n",
        "plt.plot(train_losses)\n",
        "\n",
        "plt.subplot(122)\n",
        "plt.title('Val Loss')\n",
        "plt.plot(val_losses, 'y')"
      ],
      "metadata": {
        "colab": {
          "base_uri": "https://localhost:8080/",
          "height": 523
        },
        "id": "SW5hMyCetOnI",
        "outputId": "3e7c171f-8a81-41c1-ddb8-b9662d7aae79"
      },
      "execution_count": 26,
      "outputs": [
        {
          "output_type": "execute_result",
          "data": {
            "text/plain": [
              "[<matplotlib.lines.Line2D at 0x79357d5d8790>]"
            ]
          },
          "metadata": {},
          "execution_count": 26
        },
        {
          "output_type": "display_data",
          "data": {
            "text/plain": [
              "<Figure size 2000x1000 with 2 Axes>"
            ],
            "image/png": "[encoded data removed]"
          },
          "metadata": {}
        }
      ]
    },
    {
      "cell_type": "code",
      "source": [
        "next(iter(test_loader))"
      ],
      "metadata": {
        "colab": {
          "base_uri": "https://localhost:8080/"
        },
        "id": "PK5lcdAdtOks",
        "outputId": "9db65fb3-6e5a-4607-9410-3375319172c9"
      },
      "execution_count": null,
      "outputs": [
        {
          "output_type": "execute_result",
          "data": {
            "text/plain": [
              "[tensor([[  35,   43,  218,  219,  916,   45, 1569, 1722,    6, 1723, 1299,  808,\n",
              "             5,   48,  290,  265,  641, 8907, 8907, 8907, 8907, 8907, 8907, 8907,\n",
              "          8907, 8907, 8907, 8907, 8907, 8907, 8907, 8907],\n",
              "         [1256,   40, 3163, 1474, 6512, 8907, 8907, 8907, 8907, 8907, 8907, 8907,\n",
              "          8907, 8907, 8907, 8907, 8907, 8907, 8907, 8907, 8907, 8907, 8907, 8907,\n",
              "          8907, 8907, 8907, 8907, 8907, 8907, 8907, 8907],\n",
              "         [2534, 2535, 1659,  262, 2536, 2537,  515,   53, 2538, 2077, 2539,  957,\n",
              "          2335, 2540,   10, 2488,    5, 1888, 8907, 8907, 8907, 8907, 8907, 8907,\n",
              "          8907, 8907, 8907, 8907, 8907, 8907, 8907, 8907],\n",
              "         [ 915,  334,  298,  388,   59, 1105, 1390, 1353, 1394,  269, 8907, 8907,\n",
              "          8907, 8907, 8907, 8907, 8907, 8907, 8907, 8907, 8907, 8907, 8907, 8907,\n",
              "          8907, 8907, 8907, 8907, 8907, 8907, 8907, 8907],\n",
              "         [ 287, 8186, 8567, 4018, 4153, 3855, 1664, 6842, 3107, 2923, 1397, 8907,\n",
              "          8907, 8907, 8907, 8907, 8907, 8907, 8907, 8907, 8907, 8907, 8907, 8907,\n",
              "          8907, 8907, 8907, 8907, 8907, 8907, 8907, 8907],\n",
              "         [ 170,   21,  146,   75,  146,  159,  631,  206, 2521,  646,   97,   86,\n",
              "            43,  514,  377,  699, 1156,   71,   57,  191,  290,  193,   95,  191,\n",
              "           314,   97,   86,  108, 8907, 8907, 8907, 8907],\n",
              "         [ 895,   17, 2390, 1358,  230, 1104,  993,   64,   17, 2827, 2554,  320,\n",
              "            53,  455,   71, 2390, 8907, 8907, 8907, 8907, 8907, 8907, 8907, 8907,\n",
              "          8907, 8907, 8907, 8907, 8907, 8907, 8907, 8907],\n",
              "         [  53, 3189, 2591,  262,  714, 7329,  429, 2591,  262,  534, 2003, 2221,\n",
              "          1594, 1470, 3221, 8907, 8907, 8907, 8907, 8907, 8907, 8907, 8907, 8907,\n",
              "          8907, 8907, 8907, 8907, 8907, 8907, 8907, 8907]]),\n",
              " tensor([0, 1, 2, 2, 2, 2, 2, 0])]"
            ]
          },
          "metadata": {},
          "execution_count": 77
        }
      ]
    },
    {
      "cell_type": "code",
      "source": [
        "input = \"\"\"With the new production plant the company would increase its capacity to meet\n",
        "the expected increase in demand and would improve the use of raw materials\n",
        "and therefore increase the production profitability .\"\"\"\n",
        "input = text_normalize(input)\n",
        "input = transform(input, word_to_idx, max_seq_len)\n",
        "input = torch.tensor(input)\n",
        "input = input.unsqueeze(0)"
      ],
      "metadata": {
        "id": "Sqs3CXQLtOfd"
      },
      "execution_count": 30,
      "outputs": []
    },
    {
      "cell_type": "code",
      "source": [
        "result = np.argmax(model(input).detach().numpy())\n",
        "result"
      ],
      "metadata": {
        "id": "lT9hWA2ltOc7",
        "colab": {
          "base_uri": "https://localhost:8080/"
        },
        "outputId": "e9fdc067-2dfd-4983-e081-33c2c2ca34f2"
      },
      "execution_count": 31,
      "outputs": [
        {
          "output_type": "execute_result",
          "data": {
            "text/plain": [
              "2"
            ]
          },
          "metadata": {},
          "execution_count": 31
        }
      ]
    },
    {
      "cell_type": "code",
      "source": [
        "classes"
      ],
      "metadata": {
        "colab": {
          "base_uri": "https://localhost:8080/"
        },
        "id": "FWhyd94FN5hA",
        "outputId": "8d25e9d4-7c1a-4ddf-fbfd-3e66591feb63"
      },
      "execution_count": 32,
      "outputs": [
        {
          "output_type": "execute_result",
          "data": {
            "text/plain": [
              "{'neutral': 0, 'negative': 1, 'positive': 2}"
            ]
          },
          "metadata": {},
          "execution_count": 32
        }
      ]
    }
  ]
}